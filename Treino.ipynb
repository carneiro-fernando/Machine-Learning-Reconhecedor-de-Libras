{
 "cells": [
  {
   "cell_type": "markdown",
   "id": "d598d74d",
   "metadata": {
    "slideshow": {
     "slide_type": "-"
    }
   },
   "source": [
    "# SISTEMA DE RECONHECIMENTO DE LÍNGUA DE SINAIS"
   ]
  },
  {
   "cell_type": "markdown",
   "id": "1808100f",
   "metadata": {
    "slideshow": {
     "slide_type": "-"
    }
   },
   "source": [
    "## Importando as bibliotecas necessárias"
   ]
  },
  {
   "cell_type": "code",
   "execution_count": 1,
   "id": "d96f5ee2",
   "metadata": {},
   "outputs": [],
   "source": [
    "from keras.models import Sequential\n",
    "from keras.layers import Convolution2D\n",
    "from keras.layers import MaxPooling2D\n",
    "from keras.layers import Flatten\n",
    "from keras.layers import Dense\n",
    "from keras.layers import Dropout\n",
    "from keras.preprocessing.image import ImageDataGenerator"
   ]
  },
  {
   "cell_type": "markdown",
   "id": "ec7257af",
   "metadata": {},
   "source": [
    "## Construindo a rede neural"
   ]
  },
  {
   "cell_type": "markdown",
   "id": "405bc18d",
   "metadata": {},
   "source": [
    "### Inicialização"
   ]
  },
  {
   "cell_type": "code",
   "execution_count": 2,
   "id": "f10085a2",
   "metadata": {},
   "outputs": [],
   "source": [
    "model = Sequential()"
   ]
  },
  {
   "cell_type": "markdown",
   "id": "c62042c1",
   "metadata": {},
   "source": [
    "\n",
    "### Primeira camada de convolução e pooling"
   ]
  },
  {
   "cell_type": "code",
   "execution_count": 3,
   "id": "1ac38c2a",
   "metadata": {},
   "outputs": [],
   "source": [
    "model.add(Convolution2D(32, (3, 3), input_shape=(64, 64, 1), activation='relu'))"
   ]
  },
  {
   "cell_type": "code",
   "execution_count": 4,
   "id": "a042b10c",
   "metadata": {},
   "outputs": [],
   "source": [
    "model.add(MaxPooling2D(pool_size=(2, 2), strides=2))"
   ]
  },
  {
   "cell_type": "code",
   "execution_count": 5,
   "id": "bdd4786f",
   "metadata": {},
   "outputs": [],
   "source": [
    "model.add(Dropout(0.25))"
   ]
  },
  {
   "cell_type": "markdown",
   "id": "083a2997",
   "metadata": {},
   "source": [
    "### Segunda camada de convolução e pooling"
   ]
  },
  {
   "cell_type": "code",
   "execution_count": 6,
   "id": "48e1267e",
   "metadata": {},
   "outputs": [],
   "source": [
    "model.add(Convolution2D(32, (3, 3), activation='relu'))"
   ]
  },
  {
   "cell_type": "code",
   "execution_count": 7,
   "id": "fce2b49b",
   "metadata": {},
   "outputs": [],
   "source": [
    "model.add(MaxPooling2D(pool_size=(2, 2)))"
   ]
  },
  {
   "cell_type": "markdown",
   "id": "180317ff",
   "metadata": {},
   "source": [
    "### Terceira camada de convolução e pooling"
   ]
  },
  {
   "cell_type": "code",
   "execution_count": 8,
   "id": "c8a08548",
   "metadata": {},
   "outputs": [],
   "source": [
    "model.add(Convolution2D(64, (3, 3), activation='relu'))"
   ]
  },
  {
   "cell_type": "code",
   "execution_count": 9,
   "id": "151ba722",
   "metadata": {},
   "outputs": [],
   "source": [
    "model.add(MaxPooling2D(pool_size=(2, 2)))"
   ]
  },
  {
   "cell_type": "markdown",
   "id": "03d15427",
   "metadata": {},
   "source": [
    "### Quarta camada de convolução e pooling"
   ]
  },
  {
   "cell_type": "code",
   "execution_count": 10,
   "id": "315033d9",
   "metadata": {},
   "outputs": [],
   "source": [
    "model.add(Convolution2D(64, (3, 3), activation='relu'))"
   ]
  },
  {
   "cell_type": "code",
   "execution_count": 11,
   "id": "36165791",
   "metadata": {},
   "outputs": [],
   "source": [
    "model.add(MaxPooling2D(pool_size=(2, 2)))"
   ]
  },
  {
   "cell_type": "markdown",
   "id": "20d9141a",
   "metadata": {},
   "source": [
    "### Convertendo as matrizes em arrays"
   ]
  },
  {
   "cell_type": "code",
   "execution_count": 12,
   "id": "a4cb2696",
   "metadata": {},
   "outputs": [],
   "source": [
    "model.add(Flatten())"
   ]
  },
  {
   "cell_type": "markdown",
   "id": "2c1a331f",
   "metadata": {},
   "source": [
    "### Camada totalmente conectada"
   ]
  },
  {
   "cell_type": "code",
   "execution_count": 13,
   "id": "d97a507f",
   "metadata": {},
   "outputs": [],
   "source": [
    "model.add(Dense(units=512, activation='relu'))"
   ]
  },
  {
   "cell_type": "code",
   "execution_count": 14,
   "id": "3c17b94a",
   "metadata": {},
   "outputs": [],
   "source": [
    "model.add(Dense(units=7, activation='softmax'))"
   ]
  },
  {
   "cell_type": "markdown",
   "id": "cbff9cd5",
   "metadata": {},
   "source": [
    "### Compilando o modelo"
   ]
  },
  {
   "cell_type": "code",
   "execution_count": 15,
   "id": "0974feff",
   "metadata": {},
   "outputs": [],
   "source": [
    "model.compile(optimizer='adam', loss='categorical_crossentropy', metrics=['accuracy'])"
   ]
  },
  {
   "cell_type": "markdown",
   "id": "7d531014",
   "metadata": {},
   "source": [
    " "
   ]
  },
  {
   "cell_type": "markdown",
   "id": "d2f512b9",
   "metadata": {},
   "source": [
    "## Preparando os dados para treino"
   ]
  },
  {
   "cell_type": "markdown",
   "id": "2a88e67b",
   "metadata": {},
   "source": [
    "### Constroi um conjunto de dados com arquivos de imagem (treino)"
   ]
  },
  {
   "cell_type": "code",
   "execution_count": 16,
   "id": "9fc9ec11",
   "metadata": {},
   "outputs": [],
   "source": [
    "train_datagen = ImageDataGenerator(rescale=1./255,rotation_range=25)\n"
   ]
  },
  {
   "cell_type": "markdown",
   "id": "01b08ee5",
   "metadata": {},
   "source": [
    "### Constroi um conjunto de dados com arquivos de imagem (teste)"
   ]
  },
  {
   "cell_type": "code",
   "execution_count": 17,
   "id": "209e1c1f",
   "metadata": {},
   "outputs": [],
   "source": [
    "test_datagen = ImageDataGenerator(rescale=1./255)"
   ]
  },
  {
   "cell_type": "markdown",
   "id": "df6e7793",
   "metadata": {},
   "source": [
    "### Definindo localização e formato das imagens para treino"
   ]
  },
  {
   "cell_type": "code",
   "execution_count": 18,
   "id": "1e1166e3",
   "metadata": {},
   "outputs": [
    {
     "name": "stdout",
     "output_type": "stream",
     "text": [
      "Found 3518 images belonging to 7 classes.\n"
     ]
    }
   ],
   "source": [
    "training_set = train_datagen.flow_from_directory('dataset/treino',\n",
    "                                                 target_size=(64, 64),\n",
    "                                                 color_mode='grayscale',\n",
    "                                                 class_mode='categorical')"
   ]
  },
  {
   "cell_type": "markdown",
   "id": "c92c6247",
   "metadata": {},
   "source": [
    "### Definindo localização e formato das imagens para teste\n"
   ]
  },
  {
   "cell_type": "code",
   "execution_count": 19,
   "id": "a61421e6",
   "metadata": {},
   "outputs": [
    {
     "name": "stdout",
     "output_type": "stream",
     "text": [
      "Found 2159 images belonging to 7 classes.\n"
     ]
    }
   ],
   "source": [
    "test_set = test_datagen.flow_from_directory('dataset/teste',\n",
    "                                            target_size=(64, 64),\n",
    "                                            color_mode='grayscale',\n",
    "                                            class_mode='categorical')"
   ]
  },
  {
   "cell_type": "markdown",
   "id": "30bb0ff2",
   "metadata": {},
   "source": [
    "### Definindo os parametros de aprendizagem\n"
   ]
  },
  {
   "cell_type": "code",
   "execution_count": 20,
   "id": "71453330",
   "metadata": {},
   "outputs": [
    {
     "name": "stdout",
     "output_type": "stream",
     "text": [
      "Epoch 1/15\n",
      "110/110 [==============================] - 6s 35ms/step - loss: 1.8164 - accuracy: 0.2607 - val_loss: 1.4980 - val_accuracy: 0.4108\n",
      "Epoch 2/15\n",
      "110/110 [==============================] - 3s 27ms/step - loss: 1.2391 - accuracy: 0.5276 - val_loss: 1.0159 - val_accuracy: 0.6123\n",
      "Epoch 3/15\n",
      "110/110 [==============================] - 3s 29ms/step - loss: 0.7587 - accuracy: 0.7078 - val_loss: 1.2041 - val_accuracy: 0.6633\n",
      "Epoch 4/15\n",
      "110/110 [==============================] - 3s 30ms/step - loss: 0.4549 - accuracy: 0.8294 - val_loss: 0.5439 - val_accuracy: 0.8536\n",
      "Epoch 5/15\n",
      "110/110 [==============================] - 4s 33ms/step - loss: 0.2679 - accuracy: 0.9107 - val_loss: 0.6498 - val_accuracy: 0.8546\n",
      "Epoch 6/15\n",
      "110/110 [==============================] - 5s 44ms/step - loss: 0.1932 - accuracy: 0.9335 - val_loss: 0.3778 - val_accuracy: 0.9189\n",
      "Epoch 7/15\n",
      "110/110 [==============================] - 4s 41ms/step - loss: 0.1384 - accuracy: 0.9557 - val_loss: 0.3626 - val_accuracy: 0.9189\n",
      "Epoch 8/15\n",
      "110/110 [==============================] - 4s 38ms/step - loss: 0.1306 - accuracy: 0.9574 - val_loss: 0.5825 - val_accuracy: 0.8837\n",
      "Epoch 9/15\n",
      "110/110 [==============================] - 3s 31ms/step - loss: 0.2378 - accuracy: 0.9198 - val_loss: 0.3230 - val_accuracy: 0.9083\n",
      "Epoch 10/15\n",
      "110/110 [==============================] - 6s 52ms/step - loss: 0.1028 - accuracy: 0.9659 - val_loss: 0.2501 - val_accuracy: 0.9375\n",
      "Epoch 11/15\n",
      "110/110 [==============================] - 8s 75ms/step - loss: 0.0806 - accuracy: 0.9733 - val_loss: 0.1904 - val_accuracy: 0.9611\n",
      "Epoch 12/15\n",
      "110/110 [==============================] - 10s 88ms/step - loss: 0.0630 - accuracy: 0.9795 - val_loss: 0.4373 - val_accuracy: 0.9037\n",
      "Epoch 13/15\n",
      "110/110 [==============================] - 7s 66ms/step - loss: 0.0688 - accuracy: 0.9775 - val_loss: 0.5669 - val_accuracy: 0.9194\n",
      "Epoch 14/15\n",
      "110/110 [==============================] - 5s 46ms/step - loss: 0.0486 - accuracy: 0.9815 - val_loss: 0.4629 - val_accuracy: 0.9106\n",
      "Epoch 15/15\n",
      "110/110 [==============================] - 5s 48ms/step - loss: 0.0527 - accuracy: 0.9824 - val_loss: 0.2200 - val_accuracy: 0.9356\n"
     ]
    }
   ],
   "source": [
    "history = model.fit(\n",
    "        training_set,     \n",
    "        epochs=15,\n",
    "        validation_data=test_set)"
   ]
  },
  {
   "cell_type": "markdown",
   "id": "8af66851",
   "metadata": {},
   "source": [
    "## Gráficos de avaliação de resultado"
   ]
  },
  {
   "cell_type": "code",
   "execution_count": 21,
   "id": "d08c188a",
   "metadata": {},
   "outputs": [],
   "source": [
    "import matplotlib.pyplot as plt"
   ]
  },
  {
   "cell_type": "markdown",
   "id": "700de013",
   "metadata": {},
   "source": [
    "### Renderização de gráfico de acuracia"
   ]
  },
  {
   "cell_type": "code",
   "execution_count": 22,
   "id": "1d2d474d",
   "metadata": {
    "scrolled": false
   },
   "outputs": [
    {
     "data": {
      "image/png": "[encoded data removed]",
      "text/plain": [
       "<Figure size 640x480 with 1 Axes>"
      ]
     },
     "metadata": {},
     "output_type": "display_data"
    }
   ],
   "source": [
    "plt.plot(history.history['val_accuracy'])\n",
    "plt.plot(history.history['accuracy'])\n",
    "plt.title('Precisão do Modelo')\n",
    "plt.ylabel('Precisão')\n",
    "plt.xlabel('Épocas')\n",
    "plt.legend([ 'Validação','Treino'], loc='upper left')\n",
    "plt.show()"
   ]
  },
  {
   "cell_type": "markdown",
   "id": "56492310",
   "metadata": {},
   "source": [
    "### Renderização de gráfico de perda"
   ]
  },
  {
   "cell_type": "code",
   "execution_count": 23,
   "id": "18fd9a3c",
   "metadata": {},
   "outputs": [
    {
     "data": {
      "image/png": "[encoded data removed]",
      "text/plain": [
       "<Figure size 640x480 with 1 Axes>"
      ]
     },
     "metadata": {},
     "output_type": "display_data"
    }
   ],
   "source": [
    "plt.plot(history.history['val_loss'])\n",
    "plt.plot(history.history['loss'])\n",
    "plt.title('Perda do Modelo')\n",
    "plt.ylabel('Perda')\n",
    "plt.xlabel('Épocas')\n",
    "plt.legend([ 'Validação','Treino'], loc='upper left')\n",
    "plt.show()"
   ]
  },
  {
   "cell_type": "markdown",
   "id": "6495edaa",
   "metadata": {},
   "source": [
    "### Salvando o modelo"
   ]
  },
  {
   "cell_type": "code",
   "execution_count": 24,
   "id": "bcbc4a5b",
   "metadata": {},
   "outputs": [],
   "source": [
    "model_json = model.to_json()\n",
    "with open(\"model.json\", \"w\") as json_file:\n",
    "    json_file.write(model_json)"
   ]
  },
  {
   "cell_type": "markdown",
   "id": "d4228780",
   "metadata": {},
   "source": [
    "### Salvando os pesos"
   ]
  },
  {
   "cell_type": "code",
   "execution_count": 25,
   "id": "5ee0c7ac",
   "metadata": {},
   "outputs": [],
   "source": [
    "model.save_weights('model.h5')"
   ]
  }
 ],
 "metadata": {
  "kernelspec": {
   "display_name": "Python 3 (ipykernel)",
   "language": "python",
   "name": "python3"
  },
  "language_info": {
   "codemirror_mode": {
    "name": "ipython",
    "version": 3
   },
   "file_extension": ".py",
   "mimetype": "text/x-python",
   "name": "python",
   "nbconvert_exporter": "python",
   "pygments_lexer": "ipython3",
   "version": "3.10.8"
  },
  "toc-autonumbering": true,
  "toc-showcode": false,
  "toc-showmarkdowntxt": true,
  "vscode": {
   "interpreter": {
    "hash": "e9757683deb831d7411746e19c1ffdec1682fc74e41bb2cbe8b93f219619d90b"
   }
  }
 },
 "nbformat": 4,
 "nbformat_minor": 5
}
